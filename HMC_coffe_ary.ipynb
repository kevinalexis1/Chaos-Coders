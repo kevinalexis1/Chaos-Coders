{
 "cells": [
  {
   "cell_type": "markdown",
   "id": "ddce19e8",
   "metadata": {},
   "source": [
    "# HMC for Price Forecasting"
   ]
  },
  {
   "cell_type": "code",
   "execution_count": 1,
   "id": "b1129cc8",
   "metadata": {},
   "outputs": [],
   "source": [
    "import pandas as pd\n",
    "import sys\n",
    "import numpy as np\n",
    "import matplotlib.pyplot as plt\n",
    "import itertools\n",
    "\n",
    "from sklearn.model_selection import train_test_split\n",
    "from sklearn.metrics import mean_squared_error\n",
    "from sklearn.ensemble import RandomForestClassifier\n",
    "from sklearn.metrics import accuracy_score\n",
    "from hmmlearn import hmm\n",
    "from tqdm import tqdm"
   ]
  },
  {
   "cell_type": "code",
   "execution_count": 2,
   "id": "0defab37",
   "metadata": {},
   "outputs": [],
   "source": [
    "# Ruta al archivo CSV\n",
    "csv_path = \"./coffee.csv\"\n",
    "used_data = pd.read_csv(csv_path)\n",
    "used_data = used_data.drop([\"Volume\", \"Adj Close\"], axis=1) \n",
    "    \n",
    "# Definir el tamaño de la prueba\n",
    "test_size = 0.3\n",
    "    \n",
    "# Dividir la data en train y test\n",
    "train_data, test_data = train_test_split(used_data, test_size=test_size, shuffle=False)\n",
    "\n",
    "# Eliminar valores NaN\n",
    "train_data.dropna(inplace=True)\n",
    "test_data.dropna(inplace=True)"
   ]
  },
  {
   "cell_type": "code",
   "execution_count": 3,
   "id": "efb6f192",
   "metadata": {},
   "outputs": [
    {
     "data": {
      "text/html": [
       "<div>\n",
       "<style scoped>\n",
       "    .dataframe tbody tr th:only-of-type {\n",
       "        vertical-align: middle;\n",
       "    }\n",
       "\n",
       "    .dataframe tbody tr th {\n",
       "        vertical-align: top;\n",
       "    }\n",
       "\n",
       "    .dataframe thead th {\n",
       "        text-align: right;\n",
       "    }\n",
       "</style>\n",
       "<table border=\"1\" class=\"dataframe\">\n",
       "  <thead>\n",
       "    <tr style=\"text-align: right;\">\n",
       "      <th></th>\n",
       "      <th>Open</th>\n",
       "      <th>High</th>\n",
       "      <th>Low</th>\n",
       "      <th>Close</th>\n",
       "    </tr>\n",
       "  </thead>\n",
       "  <tbody>\n",
       "    <tr>\n",
       "      <th>count</th>\n",
       "      <td>1241.000000</td>\n",
       "      <td>1241.000000</td>\n",
       "      <td>1241.000000</td>\n",
       "      <td>1241.000000</td>\n",
       "    </tr>\n",
       "    <tr>\n",
       "      <th>mean</th>\n",
       "      <td>128.804996</td>\n",
       "      <td>133.031225</td>\n",
       "      <td>125.006728</td>\n",
       "      <td>128.793836</td>\n",
       "    </tr>\n",
       "    <tr>\n",
       "      <th>std</th>\n",
       "      <td>50.474167</td>\n",
       "      <td>52.183409</td>\n",
       "      <td>48.873325</td>\n",
       "      <td>50.474548</td>\n",
       "    </tr>\n",
       "    <tr>\n",
       "      <th>min</th>\n",
       "      <td>42.500000</td>\n",
       "      <td>43.250000</td>\n",
       "      <td>41.500000</td>\n",
       "      <td>42.599998</td>\n",
       "    </tr>\n",
       "    <tr>\n",
       "      <th>25%</th>\n",
       "      <td>99.699997</td>\n",
       "      <td>102.900002</td>\n",
       "      <td>97.000000</td>\n",
       "      <td>99.599998</td>\n",
       "    </tr>\n",
       "    <tr>\n",
       "      <th>50%</th>\n",
       "      <td>121.500000</td>\n",
       "      <td>125.250000</td>\n",
       "      <td>118.449997</td>\n",
       "      <td>121.550003</td>\n",
       "    </tr>\n",
       "    <tr>\n",
       "      <th>75%</th>\n",
       "      <td>151.500000</td>\n",
       "      <td>156.949997</td>\n",
       "      <td>147.000000</td>\n",
       "      <td>151.300003</td>\n",
       "    </tr>\n",
       "    <tr>\n",
       "      <th>max</th>\n",
       "      <td>298.350006</td>\n",
       "      <td>306.250000</td>\n",
       "      <td>284.500000</td>\n",
       "      <td>299.350006</td>\n",
       "    </tr>\n",
       "  </tbody>\n",
       "</table>\n",
       "</div>"
      ],
      "text/plain": [
       "              Open         High          Low        Close\n",
       "count  1241.000000  1241.000000  1241.000000  1241.000000\n",
       "mean    128.804996   133.031225   125.006728   128.793836\n",
       "std      50.474167    52.183409    48.873325    50.474548\n",
       "min      42.500000    43.250000    41.500000    42.599998\n",
       "25%      99.699997   102.900002    97.000000    99.599998\n",
       "50%     121.500000   125.250000   118.449997   121.550003\n",
       "75%     151.500000   156.949997   147.000000   151.300003\n",
       "max     298.350006   306.250000   284.500000   299.350006"
      ]
     },
     "execution_count": 3,
     "metadata": {},
     "output_type": "execute_result"
    }
   ],
   "source": [
    "# Visualización rápida de la data\n",
    "used_data.describe()"
   ]
  },
  {
   "cell_type": "code",
   "execution_count": 4,
   "id": "b1766c3c",
   "metadata": {},
   "outputs": [],
   "source": [
    "# Parametros\n",
    "n_components = 3\n",
    "n_latency_days = 5\n",
    "n_intervals = 15\n",
    "days = len(test_data)\n",
    "\n",
    "# Extraer las características: precios de apertura, cierre, máximo y mínimo\n",
    "open_price = np.array(train_data[\"Open\"])\n",
    "close_price = np.array(train_data[\"Close\"])\n",
    "high_price = np.array(train_data[\"High\"])\n",
    "low_price = np.array(train_data[\"Low\"])\n",
    "\n",
    "# Calcular los cambios fraccionales en los precios alto, bajo y de cierre para usar como conjunto de observaciones\n",
    "frac_change = (close_price - open_price) / open_price\n",
    "frac_high = (high_price - open_price) / open_price\n",
    "frac_low = (open_price - low_price) / open_price\n",
    "\n",
    "# Apilar las características en columnas\n",
    "features = np.column_stack((frac_change, frac_high, frac_low))\n",
    "\n",
    "# Inicializar el modelo HMM\n",
    "hmm_1 = hmm.GMMHMM(n_components)\n",
    "\n",
    "# Registro de la extracción de características\n",
    "observations = features \n",
    "\n",
    "# Ajustar el modelo HMM\n",
    "hmm_1.fit(observations)\n",
    "\n",
    "# Crear arrays de NumPy con números espaciados uniformemente para cada rango\n",
    "frac_change_range = np.linspace(-0.1, 0.1, n_intervals)\n",
    "frac_high_range = np.linspace(0, 0.1, n_intervals)\n",
    "frac_low_range = np.linspace(0, 0.1, n_intervals)\n",
    "\n",
    "# Calcular todos los resultados posibles utilizando el producto cartesiano\n",
    "possible_outcomes = np.array(\n",
    "list(itertools.product(frac_change_range, frac_high_range, frac_low_range))\n",
    ")\n",
    "\n",
    "outcome_score = []\n",
    "\n",
    "# Evalúar todos los resultados posibles y seleccionar el más probable\n",
    "for possible_outcome in possible_outcomes:\n",
    "    total_data = np.row_stack((features, possible_outcome))\n",
    "    outcome_score.append(hmm_1.score(total_data))"
   ]
  },
  {
   "cell_type": "code",
   "execution_count": 5,
   "id": "f45f4f5d",
   "metadata": {},
   "outputs": [],
   "source": [
    "def predictor(day_index):\n",
    "\n",
    "    # Usar los datos anteriores de n_latency_days para las predicciones\n",
    "    previous_data_start_index = max(0, day_index - n_latency_days)\n",
    "    previous_data_end_index = max(0, day_index - 1)\n",
    "    previous_data = test_data.iloc[previous_data_start_index:previous_data_end_index]\n",
    "\n",
    "    # Determinar el índice del resultado más probable\n",
    "    most_probable_outcome = possible_outcomes[np.argmax(outcome_score)]\n",
    "\n",
    "    # Identificar el precio de apertura para el día dado\n",
    "    open_price = test_data.iloc[day_index][\"Open\"]\n",
    "\n",
    "    # Definir el 'most_probable_outcome' como los cambios fraccionales más probables\n",
    "    predicted_frac_change, pred_frac_high, pred_frac_low = most_probable_outcome\n",
    "    predicted_change_list.append(predicted_frac_change)\n",
    "\n",
    "    # Calcular el precio de cierre previsto\n",
    "    predicted_close_price = open_price * (1 + predicted_frac_change)\n",
    "    \n",
    "    return predicted_close_price\n"
   ]
  },
  {
   "cell_type": "code",
   "execution_count": 6,
   "id": "47b46c1d",
   "metadata": {},
   "outputs": [
    {
     "name": "stdout",
     "output_type": "stream",
     "text": [
      "Predicting Close prices from 868 to 1240\n"
     ]
    },
    {
     "name": "stderr",
     "output_type": "stream",
     "text": [
      "100%|███████████████████████████████████████| 373/373 [00:00<00:00, 1774.43it/s]\n"
     ]
    }
   ],
   "source": [
    "# Inicializar una lista vacía para almacenar los precios de cierre previstos y los cambios fraccionales\n",
    "predicted_close_prices = []\n",
    "predicted_change_list = []\n",
    "\n",
    "# Imprime el rango de fechas para las que se harán las predicciones\n",
    "print(\n",
    "    \"Predicting Close prices from \"\n",
    "    + str(test_data.index[0])\n",
    "    + \" to \"\n",
    "    + str(test_data.index[-1])\n",
    ")\n",
    "\n",
    "# Bucle para predecir los precios de cierre para cada día en el período de prueba\n",
    "for day_index in tqdm(range(days)):\n",
    "    value= predictor(day_index)\n",
    "    predicted_close_prices.append(value)\n"
   ]
  },
  {
   "cell_type": "code",
   "execution_count": 7,
   "id": "0c1623de",
   "metadata": {},
   "outputs": [],
   "source": [
    "# Extraer los años de las fechas predichas\n",
    "years = [date.split(\"-\")[0] for date in used_data['Date']]\n",
    "\n",
    "# Eliminar años duplicados\n",
    "unique_years = list(set(years))\n",
    "\n",
    "# Encontrar los índices donde cambian los años\n",
    "year_indices = [years.index(year) for year in unique_years]"
   ]
  },
  {
   "cell_type": "code",
   "execution_count": 8,
   "id": "1cab1ab8",
   "metadata": {},
   "outputs": [
    {
     "data": {
      "image/png": "[encoded data removed]",
      "text/plain": [
       "<Figure size 1400x700 with 1 Axes>"
      ]
     },
     "metadata": {},
     "output_type": "display_data"
    }
   ],
   "source": [
    "# Almacena y devuelve los precios de cierre reales\n",
    "actual_close_prices = test_data.loc[:, [\"Close\"]]\n",
    "\n",
    "# Convertir 'actual_close_prices' a una lista si es un DataFrame de pandas\n",
    "if isinstance(actual_close_prices, pd.DataFrame):\n",
    "    actual_close_prices = actual_close_prices[\"Close\"].tolist()\n",
    "\n",
    "# Crear el gráfico\n",
    "plt.figure(figsize=(14, 7))\n",
    "\n",
    "# Trazar los precios de cierre reales\n",
    "plt.plot(used_data.loc[:, [\"Close\"]], label='Real Close Prices', color='blue')\n",
    "\n",
    "# Trazar los precios de cierre previstos\n",
    "plt.plot(range(len(train_data), len(train_data) + len(predicted_close_prices)), predicted_close_prices, label='Predicted Close Prices', color='red')\n",
    "\n",
    "# Añadir título y etiquetas\n",
    "plt.title('Real vs Predicted Close Prices')\n",
    "plt.xlabel('Years')\n",
    "plt.ylabel('Close Price')\n",
    "plt.legend()\n",
    "\n",
    "# Configurar las etiquetas de los xticks con los años únicos\n",
    "plt.xticks(ticks=year_indices, labels=unique_years)\n",
    "\n",
    "# Mostrar el gráfico\n",
    "plt.show()"
   ]
  },
  {
   "cell_type": "code",
   "execution_count": 9,
   "id": "e3e4f7e5",
   "metadata": {},
   "outputs": [
    {
     "data": {
      "text/plain": [
       "0.032541111404007596"
      ]
     },
     "execution_count": 9,
     "metadata": {},
     "output_type": "execute_result"
    }
   ],
   "source": [
    "# Error de las predicciones\n",
    "error_abs = abs(np.array(actual_close_prices) - np.array(predicted_close_prices))/np.array(actual_close_prices) \n",
    "error_10days = error_abs.mean()\n",
    "error_10days"
   ]
  },
  {
   "cell_type": "markdown",
   "id": "d9d45e5c",
   "metadata": {},
   "source": [
    "# Buy, Sell and Hold Signals"
   ]
  },
  {
   "cell_type": "code",
   "execution_count": 10,
   "id": "9aa4f924",
   "metadata": {},
   "outputs": [
    {
     "name": "stdout",
     "output_type": "stream",
     "text": [
      "0.04459156283439439 -0.042082927191246663\n"
     ]
    }
   ],
   "source": [
    "# Precios de cierre históricos\n",
    "historical_close_prices = used_data['Close']\n",
    "\n",
    "# Calcular los cambios fraccionales en los precios de cierre\n",
    "frac_changes = [(historical_close_prices[i] - historical_close_prices[i-1]) / historical_close_prices[i-1] for i in range(1, len(historical_close_prices))]\n",
    "\n",
    "# Calcular el promedio y la desviación estándar de los cambios fraacionales\n",
    "avg_frac_change = np.mean(frac_changes)\n",
    "std_frac_change = np.std(frac_changes)\n",
    "\n",
    "# Definir los umbrales de compra y venta basados en el análisis histórico\n",
    "buy_threshold = avg_frac_change + std_frac_change\n",
    "sell_threshold = avg_frac_change - std_frac_change\n",
    "\n",
    "print(buy_threshold, sell_threshold)"
   ]
  },
  {
   "cell_type": "code",
   "execution_count": 11,
   "id": "f89e396b",
   "metadata": {},
   "outputs": [],
   "source": [
    "# Inicializar una lista para almacenar las señales\n",
    "trade_signals = []\n",
    "\n",
    "# Definir umbrales\n",
    "buy_threshold = buy_threshold \n",
    "sell_threshold = sell_threshold\n",
    "# Todo lo demás se considerará una señal de retención\n",
    "\n",
    "# Generar señales de trading\n",
    "for i in range(1, len(historical_close_prices)):\n",
    "    real_close_price_prev_day = historical_close_prices[i - 1]\n",
    "    real_close_price_today = historical_close_prices[i]\n",
    "\n",
    "    # Calcular el cambio fraccional\n",
    "    frac_change = (real_close_price_today - real_close_price_prev_day) / real_close_price_prev_day\n",
    "\n",
    "    # Generar señales de trading\n",
    "    if frac_change > buy_threshold:\n",
    "        trade_signals.append('Compra')\n",
    "    elif frac_change < sell_threshold:\n",
    "        trade_signals.append('Venta')\n",
    "    else:\n",
    "        trade_signals.append('Retención')\n",
    "\n",
    "# Agregar una señal de 'Retención' para el primer día\n",
    "trade_signals.insert(0, 'Retención')"
   ]
  },
  {
   "cell_type": "code",
   "execution_count": 12,
   "id": "943f227d",
   "metadata": {},
   "outputs": [
    {
     "data": {
      "text/html": [
       "<div>\n",
       "<style scoped>\n",
       "    .dataframe tbody tr th:only-of-type {\n",
       "        vertical-align: middle;\n",
       "    }\n",
       "\n",
       "    .dataframe tbody tr th {\n",
       "        vertical-align: top;\n",
       "    }\n",
       "\n",
       "    .dataframe thead th {\n",
       "        text-align: right;\n",
       "    }\n",
       "</style>\n",
       "<table border=\"1\" class=\"dataframe\">\n",
       "  <thead>\n",
       "    <tr style=\"text-align: right;\">\n",
       "      <th></th>\n",
       "      <th>Date</th>\n",
       "      <th>Open</th>\n",
       "      <th>High</th>\n",
       "      <th>Low</th>\n",
       "      <th>Close</th>\n",
       "      <th>Signal</th>\n",
       "    </tr>\n",
       "  </thead>\n",
       "  <tbody>\n",
       "    <tr>\n",
       "      <th>0</th>\n",
       "      <td>2000-01-17</td>\n",
       "      <td>118.250000</td>\n",
       "      <td>118.800003</td>\n",
       "      <td>110.800003</td>\n",
       "      <td>111.199997</td>\n",
       "      <td>Retención</td>\n",
       "    </tr>\n",
       "    <tr>\n",
       "      <th>1</th>\n",
       "      <td>2000-01-24</td>\n",
       "      <td>111.000000</td>\n",
       "      <td>116.400002</td>\n",
       "      <td>110.949997</td>\n",
       "      <td>114.699997</td>\n",
       "      <td>Retención</td>\n",
       "    </tr>\n",
       "    <tr>\n",
       "      <th>2</th>\n",
       "      <td>2000-01-31</td>\n",
       "      <td>114.000000</td>\n",
       "      <td>114.500000</td>\n",
       "      <td>109.800003</td>\n",
       "      <td>112.900002</td>\n",
       "      <td>Retención</td>\n",
       "    </tr>\n",
       "    <tr>\n",
       "      <th>3</th>\n",
       "      <td>2000-02-07</td>\n",
       "      <td>114.000000</td>\n",
       "      <td>114.250000</td>\n",
       "      <td>106.900002</td>\n",
       "      <td>108.800003</td>\n",
       "      <td>Retención</td>\n",
       "    </tr>\n",
       "    <tr>\n",
       "      <th>4</th>\n",
       "      <td>2000-02-14</td>\n",
       "      <td>107.000000</td>\n",
       "      <td>107.599998</td>\n",
       "      <td>103.750000</td>\n",
       "      <td>104.300003</td>\n",
       "      <td>Retención</td>\n",
       "    </tr>\n",
       "    <tr>\n",
       "      <th>...</th>\n",
       "      <td>...</td>\n",
       "      <td>...</td>\n",
       "      <td>...</td>\n",
       "      <td>...</td>\n",
       "      <td>...</td>\n",
       "      <td>...</td>\n",
       "    </tr>\n",
       "    <tr>\n",
       "      <th>495</th>\n",
       "      <td>2009-07-13</td>\n",
       "      <td>111.500000</td>\n",
       "      <td>116.250000</td>\n",
       "      <td>111.500000</td>\n",
       "      <td>116.250000</td>\n",
       "      <td>Retención</td>\n",
       "    </tr>\n",
       "    <tr>\n",
       "      <th>496</th>\n",
       "      <td>2009-07-20</td>\n",
       "      <td>118.000000</td>\n",
       "      <td>125.449997</td>\n",
       "      <td>116.349998</td>\n",
       "      <td>123.949997</td>\n",
       "      <td>Compra</td>\n",
       "    </tr>\n",
       "    <tr>\n",
       "      <th>497</th>\n",
       "      <td>2009-07-27</td>\n",
       "      <td>124.000000</td>\n",
       "      <td>128.000000</td>\n",
       "      <td>120.300003</td>\n",
       "      <td>127.849998</td>\n",
       "      <td>Retención</td>\n",
       "    </tr>\n",
       "    <tr>\n",
       "      <th>498</th>\n",
       "      <td>2009-08-03</td>\n",
       "      <td>128.149994</td>\n",
       "      <td>138.050003</td>\n",
       "      <td>128.050003</td>\n",
       "      <td>137.899994</td>\n",
       "      <td>Compra</td>\n",
       "    </tr>\n",
       "    <tr>\n",
       "      <th>499</th>\n",
       "      <td>2009-08-10</td>\n",
       "      <td>137.350006</td>\n",
       "      <td>138.600006</td>\n",
       "      <td>128.199997</td>\n",
       "      <td>128.949997</td>\n",
       "      <td>Venta</td>\n",
       "    </tr>\n",
       "  </tbody>\n",
       "</table>\n",
       "<p>500 rows × 6 columns</p>\n",
       "</div>"
      ],
      "text/plain": [
       "           Date        Open        High         Low       Close     Signal\n",
       "0    2000-01-17  118.250000  118.800003  110.800003  111.199997  Retención\n",
       "1    2000-01-24  111.000000  116.400002  110.949997  114.699997  Retención\n",
       "2    2000-01-31  114.000000  114.500000  109.800003  112.900002  Retención\n",
       "3    2000-02-07  114.000000  114.250000  106.900002  108.800003  Retención\n",
       "4    2000-02-14  107.000000  107.599998  103.750000  104.300003  Retención\n",
       "..          ...         ...         ...         ...         ...        ...\n",
       "495  2009-07-13  111.500000  116.250000  111.500000  116.250000  Retención\n",
       "496  2009-07-20  118.000000  125.449997  116.349998  123.949997     Compra\n",
       "497  2009-07-27  124.000000  128.000000  120.300003  127.849998  Retención\n",
       "498  2009-08-03  128.149994  138.050003  128.050003  137.899994     Compra\n",
       "499  2009-08-10  137.350006  138.600006  128.199997  128.949997      Venta\n",
       "\n",
       "[500 rows x 6 columns]"
      ]
     },
     "execution_count": 12,
     "metadata": {},
     "output_type": "execute_result"
    }
   ],
   "source": [
    "# Agregar la columna de señales al dataframe\n",
    "data_change = used_data.copy()\n",
    "data_change['Signal'] = trade_signals\n",
    "data_change.head(500)"
   ]
  },
  {
   "cell_type": "code",
   "execution_count": 13,
   "id": "b375d485",
   "metadata": {},
   "outputs": [
    {
     "data": {
      "text/plain": [
       "0.9716582149320425"
      ]
     },
     "execution_count": 13,
     "metadata": {},
     "output_type": "execute_result"
    }
   ],
   "source": [
    "# Analizar el rendimiento del modelo\n",
    "buy_signal = data_change[data_change[\"Signal\"] == \"Compra\"]\n",
    "sell_signal = data_change[data_change[\"Signal\"] == \"Venta\"]\n",
    "\n",
    "sum1 = 0\n",
    "\n",
    "for i in buy_signal.index:\n",
    "    retur = (data_change[\"Close\"][i+1] - data_change[\"Close\"][i])/data_change[\"Close\"][i]\n",
    "    sum1 += retur\n",
    "\n",
    "for j in sell_signal.index:\n",
    "    retur = -(data_change[\"Close\"][i+1] - data_change[\"Close\"][i])/data_change[\"Close\"][i]\n",
    "    sum1 += retur\n",
    "\n",
    "sum1"
   ]
  },
  {
   "cell_type": "markdown",
   "id": "58198fe7",
   "metadata": {},
   "source": [
    "# Prediction"
   ]
  },
  {
   "cell_type": "code",
   "execution_count": 14,
   "id": "a365a9b5",
   "metadata": {},
   "outputs": [
    {
     "name": "stdout",
     "output_type": "stream",
     "text": [
      "Predicted closing price for the next day: 163.399994\n"
     ]
    }
   ],
   "source": [
    "def predict_next_day():\n",
    "    \n",
    "    # Usar los días de latencia de la prueba para la predicción\n",
    "    last_days_data = test_data.iloc[-n_latency_days:]\n",
    "\n",
    "    most_probable_outcome = possible_outcomes[np.argmax(outcome_score)]\n",
    "\n",
    "    last_open_price = last_days_data.iloc[-1][\"Open\"]\n",
    "    predicted_frac_change, _, _ = most_probable_outcome\n",
    "    predicted_close_price = last_open_price * (1 + predicted_frac_change)\n",
    "\n",
    "    return predicted_close_price\n",
    "\n",
    "# Predecir el precio de cierre del siguiente día\n",
    "next_day_predicted_price = predict_next_day()\n",
    "print(f'Predicted closing price for the next day: {next_day_predicted_price}')"
   ]
  },
  {
   "cell_type": "code",
   "execution_count": 15,
   "id": "6634c70d",
   "metadata": {},
   "outputs": [
    {
     "name": "stdout",
     "output_type": "stream",
     "text": [
      "La señal de trading para el valor predicho es: Retención\n"
     ]
    }
   ],
   "source": [
    "# Calcular el cambio fraccional para el siguiente día\n",
    "predicted_frac_change = (next_day_predicted_price - test_data['Close'].iloc[-1]) / test_data['Close'].iloc[-1]\n",
    "\n",
    "if predicted_frac_change > buy_threshold:\n",
    "    trade_signal = 'Compra'\n",
    "elif predicted_frac_change < sell_threshold:\n",
    "    trade_signal = 'Venta'\n",
    "else:\n",
    "    trade_signal = 'Retención'\n",
    "\n",
    "print(f'La señal de trading para el valor predicho es: {trade_signal}')"
   ]
  },
  {
   "cell_type": "code",
   "execution_count": null,
   "id": "55e69e23",
   "metadata": {},
   "outputs": [],
   "source": []
  }
 ],
 "metadata": {
  "kernelspec": {
   "display_name": "Python 3 (ipykernel)",
   "language": "python",
   "name": "python3"
  },
  "language_info": {
   "codemirror_mode": {
    "name": "ipython",
    "version": 3
   },
   "file_extension": ".py",
   "mimetype": "text/x-python",
   "name": "python",
   "nbconvert_exporter": "python",
   "pygments_lexer": "ipython3",
   "version": "3.7.16"
  }
 },
 "nbformat": 4,
 "nbformat_minor": 5
}
