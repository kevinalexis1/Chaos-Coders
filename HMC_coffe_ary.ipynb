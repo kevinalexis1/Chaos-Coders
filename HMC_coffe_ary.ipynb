{
 "cells": [
  {
   "cell_type": "markdown",
   "id": "f4b2489d",
   "metadata": {},
   "source": [
    "# HMC for price forecasting"
   ]
  },
  {
   "cell_type": "code",
   "execution_count": 1,
   "id": "b1129cc8",
   "metadata": {},
   "outputs": [
    {
     "name": "stderr",
     "output_type": "stream",
     "text": [
      "/usr/lib/python3/dist-packages/scipy/__init__.py:146: UserWarning: A NumPy version >=1.17.3 and <1.25.0 is required for this version of SciPy (detected version 1.26.1\n",
      "  warnings.warn(f\"A NumPy version >={np_minversion} and <{np_maxversion}\"\n"
     ]
    }
   ],
   "source": [
    "import pandas as pd\n",
    "import sys\n",
    "import numpy as np\n",
    "import matplotlib.pyplot as plt\n",
    "import itertools\n",
    "\n",
    "from sklearn.model_selection import train_test_split\n",
    "from sklearn.metrics import mean_squared_error\n",
    "from sklearn.ensemble import RandomForestClassifier\n",
    "from sklearn.model_selection import train_test_split\n",
    "from sklearn.metrics import accuracy_score\n",
    "from hmmlearn import hmm\n",
    "from tqdm import tqdm"
   ]
  },
  {
   "cell_type": "code",
   "execution_count": 2,
   "id": "0defab37",
   "metadata": {},
   "outputs": [],
   "source": [
    "# Ruta al archivo CSV\n",
    "csv_path = \"./coffee_weekly.csv\"  # Reemplaza con la ruta a tu archivo CSV\n",
    "\n",
    "try:\n",
    "    # Usa pandas para leer el archivo CSV\n",
    "    used_data = pd.read_csv(csv_path)\n",
    "except FileNotFoundError:\n",
    "    print(\"Archivo CSV no encontrado. Por favor, verifica la ruta del archivo.\")\n",
    "    sys.exit()\n",
    "    \n",
    "test_size = 0.3\n",
    "    \n",
    "# No mezcles los datos ya que es una serie temporal\n",
    "_train_data, test_data = train_test_split(used_data, test_size=test_size, shuffle=False)\n",
    "\n",
    "# Elimina las columnas que no se usan\n",
    "train_data = _train_data.drop([\"Volume\", \"Adj Close\"], axis=1)  \n",
    "test_data = test_data.drop([\"Volume\", \"Adj Close\"], axis=1) \n",
    "\n",
    "train_data.dropna(inplace=True)"
   ]
  },
  {
   "cell_type": "code",
   "execution_count": 3,
   "id": "157b0f2b",
   "metadata": {},
   "outputs": [],
   "source": [
    "# Parametros\n",
    "n_components = 3\n",
    "n_latency_days = 5\n",
    "n_intervals = 15\n",
    "days = len(test_data)\n",
    "\n",
    "# Extrae las características: precios de apertura, cierre, máximo y mínimo\n",
    "open_price = np.array(train_data[\"Open\"])\n",
    "close_price = np.array(train_data[\"Close\"])\n",
    "high_price = np.array(train_data[\"High\"])\n",
    "low_price = np.array(train_data[\"Low\"])\n",
    "\n",
    "# Calcula los cambios fraccionales en los precios alto, bajo y de cierre para usar como conjunto de observaciones\n",
    "frac_change = (close_price - open_price) / open_price\n",
    "frac_high = (high_price - open_price) / open_price\n",
    "frac_low = (open_price - low_price) / open_price\n",
    "\n",
    "# Apila las características en columnas\n",
    "features = np.column_stack((frac_change, frac_high, frac_low))\n",
    "\n",
    "# Inicializa el modelo HMM\n",
    "hmm_1 = hmm.GMMHMM(n_components)\n",
    "\n",
    "# Registro de la extracción de características\n",
    "observations = features \n",
    "\n",
    "# Ajusta el modelo HMM usando la función 'fit' de hmmlearn\n",
    "hmm_1.fit(observations)\n",
    "\n",
    "# Parámetros para los intervalos\n",
    "n_intervals_frac_change = n_intervals\n",
    "n_intervals_frac_high = n_intervals  \n",
    "n_intervals_frac_low = n_intervals\n",
    "\n",
    "# Crea arrays de NumPy con números espaciados uniformemente para cada rango\n",
    "frac_change_range = np.linspace(-0.1, 0.1, n_intervals_frac_change)\n",
    "frac_high_range = np.linspace(0, 0.1, n_intervals_frac_high)\n",
    "frac_low_range = np.linspace(0, 0.1, n_intervals_frac_low)\n",
    "\n",
    "# Calcula todos los resultados posibles utilizando el producto cartesiano\n",
    "possible_outcomes = np.array(\n",
    "list(itertools.product(frac_change_range, frac_high_range, frac_low_range))\n",
    ")"
   ]
  },
  {
   "cell_type": "code",
   "execution_count": 4,
   "id": "f45f4f5d",
   "metadata": {},
   "outputs": [],
   "source": [
    "def predictor(day_index):\n",
    "\n",
    "    # Usa los datos anteriores de n_latency_days para las predicciones\n",
    "    previous_data_start_index = max(0, day_index - n_latency_days)\n",
    "    previous_data_end_index = max(0, day_index - 1)\n",
    "    previous_data = test_data.iloc[previous_data_start_index:previous_data_end_index]\n",
    "\n",
    "    outcome_score = []\n",
    "\n",
    "    # Evalúa todos los resultados posibles y selecciona el más probable para usar en la predicción\n",
    "    for possible_outcome in possible_outcomes:\n",
    "        total_data = np.row_stack((features, possible_outcome))\n",
    "        outcome_score.append(hmm_1.score(total_data))\n",
    "\n",
    "    # Obtén el índice del resultado más probable y devuélvelo\n",
    "    most_probable_outcome = possible_outcomes[np.argmax(outcome_score)]\n",
    "\n",
    "    # Obtén el precio de apertura para el día dado\n",
    "    open_price = test_data.iloc[day_index][\"Open\"]\n",
    "\n",
    "    # Supongamos que 'most_probable_outcome' contiene los cambios fraccionales más probables en [frac_change, frac_high, frac_low]\n",
    "    predicted_frac_change, pred_frac_high, pred_frac_low = most_probable_outcome\n",
    "    predicted_change_list.append(predicted_frac_change)\n",
    "\n",
    "    # Calcula el precio de cierre previsto\n",
    "    predicted_close_price = open_price * (1 + predicted_frac_change)\n",
    "\n",
    "    # Obtén la fecha correspondiente al day_index\n",
    "    date_at_day_index = test_data.iloc[day_index]['Date']\n",
    "    \n",
    "    return predicted_close_price, date_at_day_index"
   ]
  },
  {
   "cell_type": "code",
   "execution_count": 5,
   "id": "47b46c1d",
   "metadata": {},
   "outputs": [
    {
     "name": "stdout",
     "output_type": "stream",
     "text": [
      "Predicting Close prices from 870 to 1242\n"
     ]
    },
    {
     "name": "stderr",
     "output_type": "stream",
     "text": [
      "  0%|          | 0/373 [00:00<?, ?it/s]"
     ]
    },
    {
     "name": "stderr",
     "output_type": "stream",
     "text": [
      " 11%|█▏        | 42/373 [03:37<28:30,  5.17s/it]\n"
     ]
    },
    {
     "ename": "KeyboardInterrupt",
     "evalue": "",
     "output_type": "error",
     "traceback": [
      "\u001b[0;31m---------------------------------------------------------------------------\u001b[0m",
      "\u001b[0;31mKeyboardInterrupt\u001b[0m                         Traceback (most recent call last)",
      "\u001b[1;32m/home/mazroj/Chaos-Coders/HMC_coffe_ary.ipynb Cell 6\u001b[0m line \u001b[0;36m1\n\u001b[1;32m     <a href='vscode-notebook-cell://wsl%2Bubuntu/home/mazroj/Chaos-Coders/HMC_coffe_ary.ipynb#W5sdnNjb2RlLXJlbW90ZQ%3D%3D?line=13'>14</a>\u001b[0m \u001b[39m# Bucle para predecir los precios de cierre para cada día en el período de prueba\u001b[39;00m\n\u001b[1;32m     <a href='vscode-notebook-cell://wsl%2Bubuntu/home/mazroj/Chaos-Coders/HMC_coffe_ary.ipynb#W5sdnNjb2RlLXJlbW90ZQ%3D%3D?line=14'>15</a>\u001b[0m \u001b[39mfor\u001b[39;00m day_index \u001b[39min\u001b[39;00m tqdm(\u001b[39mrange\u001b[39m(days)):\n\u001b[0;32m---> <a href='vscode-notebook-cell://wsl%2Bubuntu/home/mazroj/Chaos-Coders/HMC_coffe_ary.ipynb#W5sdnNjb2RlLXJlbW90ZQ%3D%3D?line=15'>16</a>\u001b[0m     value, date \u001b[39m=\u001b[39m predictor(day_index)\n\u001b[1;32m     <a href='vscode-notebook-cell://wsl%2Bubuntu/home/mazroj/Chaos-Coders/HMC_coffe_ary.ipynb#W5sdnNjb2RlLXJlbW90ZQ%3D%3D?line=16'>17</a>\u001b[0m     predicted_close_prices\u001b[39m.\u001b[39mappend(value)\n\u001b[1;32m     <a href='vscode-notebook-cell://wsl%2Bubuntu/home/mazroj/Chaos-Coders/HMC_coffe_ary.ipynb#W5sdnNjb2RlLXJlbW90ZQ%3D%3D?line=17'>18</a>\u001b[0m     predicted_dates\u001b[39m.\u001b[39mappend(date)\n",
      "\u001b[1;32m/home/mazroj/Chaos-Coders/HMC_coffe_ary.ipynb Cell 6\u001b[0m line \u001b[0;36m1\n\u001b[1;32m     <a href='vscode-notebook-cell://wsl%2Bubuntu/home/mazroj/Chaos-Coders/HMC_coffe_ary.ipynb#W5sdnNjb2RlLXJlbW90ZQ%3D%3D?line=10'>11</a>\u001b[0m \u001b[39mfor\u001b[39;00m possible_outcome \u001b[39min\u001b[39;00m possible_outcomes:\n\u001b[1;32m     <a href='vscode-notebook-cell://wsl%2Bubuntu/home/mazroj/Chaos-Coders/HMC_coffe_ary.ipynb#W5sdnNjb2RlLXJlbW90ZQ%3D%3D?line=11'>12</a>\u001b[0m     total_data \u001b[39m=\u001b[39m np\u001b[39m.\u001b[39mrow_stack((features, possible_outcome))\n\u001b[0;32m---> <a href='vscode-notebook-cell://wsl%2Bubuntu/home/mazroj/Chaos-Coders/HMC_coffe_ary.ipynb#W5sdnNjb2RlLXJlbW90ZQ%3D%3D?line=12'>13</a>\u001b[0m     outcome_score\u001b[39m.\u001b[39mappend(hmm_1\u001b[39m.\u001b[39;49mscore(total_data))\n\u001b[1;32m     <a href='vscode-notebook-cell://wsl%2Bubuntu/home/mazroj/Chaos-Coders/HMC_coffe_ary.ipynb#W5sdnNjb2RlLXJlbW90ZQ%3D%3D?line=14'>15</a>\u001b[0m \u001b[39m# Obtén el índice del resultado más probable y devuélvelo\u001b[39;00m\n\u001b[1;32m     <a href='vscode-notebook-cell://wsl%2Bubuntu/home/mazroj/Chaos-Coders/HMC_coffe_ary.ipynb#W5sdnNjb2RlLXJlbW90ZQ%3D%3D?line=15'>16</a>\u001b[0m most_probable_outcome \u001b[39m=\u001b[39m possible_outcomes[np\u001b[39m.\u001b[39margmax(outcome_score)]\n",
      "File \u001b[0;32m/usr/local/lib/python3.10/dist-packages/hmmlearn/base.py:226\u001b[0m, in \u001b[0;36m_AbstractHMM.score\u001b[0;34m(self, X, lengths)\u001b[0m\n\u001b[1;32m    203\u001b[0m \u001b[39mdef\u001b[39;00m \u001b[39mscore\u001b[39m(\u001b[39mself\u001b[39m, X, lengths\u001b[39m=\u001b[39m\u001b[39mNone\u001b[39;00m):\n\u001b[1;32m    204\u001b[0m \u001b[39m    \u001b[39m\u001b[39m\"\"\"\u001b[39;00m\n\u001b[1;32m    205\u001b[0m \u001b[39m    Compute the log probability under the model.\u001b[39;00m\n\u001b[1;32m    206\u001b[0m \n\u001b[0;32m   (...)\u001b[0m\n\u001b[1;32m    224\u001b[0m \u001b[39m    decode : Find most likely state sequence corresponding to ``X``.\u001b[39;00m\n\u001b[1;32m    225\u001b[0m \u001b[39m    \"\"\"\u001b[39;00m\n\u001b[0;32m--> 226\u001b[0m     \u001b[39mreturn\u001b[39;00m \u001b[39mself\u001b[39;49m\u001b[39m.\u001b[39;49m_score(X, lengths, compute_posteriors\u001b[39m=\u001b[39;49m\u001b[39mFalse\u001b[39;49;00m)[\u001b[39m0\u001b[39m]\n",
      "File \u001b[0;32m/usr/local/lib/python3.10/dist-packages/hmmlearn/base.py:244\u001b[0m, in \u001b[0;36m_AbstractHMM._score\u001b[0;34m(self, X, lengths, compute_posteriors)\u001b[0m\n\u001b[1;32m    239\u001b[0m X \u001b[39m=\u001b[39m check_array(X)\n\u001b[1;32m    240\u001b[0m impl \u001b[39m=\u001b[39m {\n\u001b[1;32m    241\u001b[0m     \u001b[39m\"\u001b[39m\u001b[39mscaling\u001b[39m\u001b[39m\"\u001b[39m: \u001b[39mself\u001b[39m\u001b[39m.\u001b[39m_score_scaling,\n\u001b[1;32m    242\u001b[0m     \u001b[39m\"\u001b[39m\u001b[39mlog\u001b[39m\u001b[39m\"\u001b[39m: \u001b[39mself\u001b[39m\u001b[39m.\u001b[39m_score_log,\n\u001b[1;32m    243\u001b[0m }[\u001b[39mself\u001b[39m\u001b[39m.\u001b[39mimplementation]\n\u001b[0;32m--> 244\u001b[0m \u001b[39mreturn\u001b[39;00m impl(\n\u001b[1;32m    245\u001b[0m     X\u001b[39m=\u001b[39;49mX, lengths\u001b[39m=\u001b[39;49mlengths, compute_posteriors\u001b[39m=\u001b[39;49mcompute_posteriors)\n",
      "File \u001b[0;32m/usr/local/lib/python3.10/dist-packages/hmmlearn/base.py:257\u001b[0m, in \u001b[0;36m_AbstractHMM._score_log\u001b[0;34m(self, X, lengths, compute_posteriors)\u001b[0m\n\u001b[1;32m    255\u001b[0m \u001b[39mfor\u001b[39;00m sub_X \u001b[39min\u001b[39;00m _utils\u001b[39m.\u001b[39msplit_X_lengths(X, lengths):\n\u001b[1;32m    256\u001b[0m     log_frameprob \u001b[39m=\u001b[39m \u001b[39mself\u001b[39m\u001b[39m.\u001b[39m_compute_log_likelihood(sub_X)\n\u001b[0;32m--> 257\u001b[0m     log_probij, fwdlattice \u001b[39m=\u001b[39m _hmmc\u001b[39m.\u001b[39;49mforward_log(\n\u001b[1;32m    258\u001b[0m         \u001b[39mself\u001b[39;49m\u001b[39m.\u001b[39;49mstartprob_, \u001b[39mself\u001b[39;49m\u001b[39m.\u001b[39;49mtransmat_, log_frameprob)\n\u001b[1;32m    259\u001b[0m     log_prob \u001b[39m+\u001b[39m\u001b[39m=\u001b[39m log_probij\n\u001b[1;32m    260\u001b[0m     \u001b[39mif\u001b[39;00m compute_posteriors:\n",
      "\u001b[0;31mKeyboardInterrupt\u001b[0m: "
     ]
    }
   ],
   "source": [
    "# Inicializa una lista vacía para almacenar los precios de cierre previstos\n",
    "predicted_close_prices = []\n",
    "predicted_dates = []\n",
    "predicted_change_list = []\n",
    "\n",
    "# Imprime el rango de fechas para las que se harán las predicciones\n",
    "print(\n",
    "    \"Predicting Close prices from \"\n",
    "    + str(test_data.index[0])\n",
    "    + \" to \"\n",
    "    + str(test_data.index[-1])\n",
    ")\n",
    "\n",
    "# Bucle para predecir los precios de cierre para cada día en el período de prueba\n",
    "for day_index in tqdm(range(days)):\n",
    "    value, date = predictor(day_index)\n",
    "    predicted_close_prices.append(value)\n",
    "    predicted_dates.append(date)"
   ]
  },
  {
   "cell_type": "code",
   "execution_count": null,
   "id": "be5c2233",
   "metadata": {},
   "outputs": [],
   "source": [
    "# Extraer los años de las fechas predichas\n",
    "years = [date.split(\"-\")[0] for date in used_data['Date']]\n",
    "\n",
    "# Eliminar años duplicados\n",
    "unique_years = list(set(years))\n",
    "\n",
    "# Encontrar los índices donde cambian los años\n",
    "year_indices = [years.index(year) for year in unique_years]"
   ]
  },
  {
   "cell_type": "code",
   "execution_count": 8,
   "id": "f721dfb3",
   "metadata": {},
   "outputs": [],
   "source": [
    "# Almacena y devuelve los precios de cierre reales\n",
    "actual_close_prices = test_data.loc[:, [\"Close\"]]"
   ]
  },
  {
   "cell_type": "code",
   "execution_count": 26,
   "id": "1cab1ab8",
   "metadata": {},
   "outputs": [
    {
     "data": {
      "image/png": "[encoded data removed]",
      "text/plain": [
       "<Figure size 1400x700 with 1 Axes>"
      ]
     },
     "metadata": {},
     "output_type": "display_data"
    }
   ],
   "source": [
    "\n",
    "\n",
    "# Convertir 'actual_close_prices' a una lista si es un DataFrame de pandas\n",
    "if isinstance(actual_close_prices, pd.DataFrame):\n",
    "    actual_close_prices = actual_close_prices[\"Close\"].tolist()\n",
    "\n",
    "# Crear el gráfico\n",
    "plt.figure(figsize=(14, 7))\n",
    "\n",
    "# Trazar los precios de cierre reales\n",
    "plt.plot(used_data.loc[:, [\"Close\"]], label='Real Close Prices', color='blue')\n",
    "\n",
    "# Trazar los precios de cierre previstos\n",
    "plt.plot(range(len(train_data), len(train_data) + len(predicted_close_prices)), predicted_close_prices, label='Predicted Close Prices', color='red')\n",
    "\n",
    "# Añadir título y etiquetas\n",
    "plt.title('Real vs Predicted Close Prices')\n",
    "plt.xlabel('Years')\n",
    "plt.ylabel('Close Price')\n",
    "plt.legend()\n",
    "\n",
    "# Configurar las etiquetas de los xticks con los años únicos\n",
    "plt.xticks(ticks=year_indices, labels=unique_years)\n",
    "\n",
    "# Mostrar el gráfico\n",
    "plt.show()"
   ]
  },
  {
   "cell_type": "code",
   "execution_count": 27,
   "id": "ee90b3ea",
   "metadata": {},
   "outputs": [
    {
     "data": {
      "text/plain": [
       "0.03508835151093526"
      ]
     },
     "execution_count": 27,
     "metadata": {},
     "output_type": "execute_result"
    }
   ],
   "source": [
    "error_abs = abs(np.array(actual_close_prices) - np.array(predicted_close_prices))/np.array(actual_close_prices) \n",
    "error_10days = error_abs.mean()\n",
    "error_10days"
   ]
  },
  {
   "cell_type": "code",
   "execution_count": 28,
   "id": "9e2b792d",
   "metadata": {},
   "outputs": [
    {
     "name": "stdout",
     "output_type": "stream",
     "text": [
      "Predicted closing price for the next day: 165.73427962857141\n"
     ]
    }
   ],
   "source": [
    "# Function to predict the next day's closing price based on the last n_latency_days in the dataset\n",
    "def predict_next_day():\n",
    "    # Use the last n_latency_days from the test set for the prediction\n",
    "    last_days_data = test_data.iloc[-n_latency_days:]\n",
    "\n",
    "    outcome_score = []\n",
    "\n",
    "    for possible_outcome in possible_outcomes:\n",
    "        total_data = np.row_stack((features[-n_latency_days:], possible_outcome))\n",
    "        outcome_score.append(hmm_1.score(total_data))\n",
    "\n",
    "    most_probable_outcome = possible_outcomes[np.argmax(outcome_score)]\n",
    "\n",
    "    last_open_price = last_days_data.iloc[-1][\"Open\"]\n",
    "    predicted_frac_change, _, _ = most_probable_outcome\n",
    "    predicted_close_price = last_open_price * (1 + predicted_frac_change)\n",
    "\n",
    "    return predicted_close_price\n",
    "\n",
    "# Predict the next day's closing price\n",
    "next_day_predicted_price = predict_next_day()\n",
    "print(f'Predicted closing price for the next day: {next_day_predicted_price}')"
   ]
  },
  {
   "cell_type": "markdown",
   "id": "f3f0711a",
   "metadata": {},
   "source": [
    "# Buy, Sell and Hold Signals"
   ]
  },
  {
   "cell_type": "code",
   "execution_count": 6,
   "id": "01d2b89b",
   "metadata": {},
   "outputs": [
    {
     "name": "stdout",
     "output_type": "stream",
     "text": [
      "Calculated Buy and Sell Thresholds:\n",
      "  Threshold Type     Value\n",
      "0            Buy  0.044537\n",
      "1           Sell -0.042075\n"
     ]
    }
   ],
   "source": [
    "# Simulated historical close prices (replace with your actual data)\n",
    "historical_close_prices = used_data['Close']\n",
    "\n",
    "# Calculate the fractional changes in close prices\n",
    "frac_changes = [(historical_close_prices[i] - historical_close_prices[i-1]) / historical_close_prices[i-1] for i in range(1, len(historical_close_prices))]\n",
    "\n",
    "# Calculate the average and standard deviation of the fractional changes\n",
    "avg_frac_change = np.mean(frac_changes)\n",
    "std_frac_change = np.std(frac_changes)\n",
    "\n",
    "# Set the buy and sell thresholds based on the historical analysis\n",
    "# Here, we set the threshold as the average plus/minus one standard deviation\n",
    "buy_threshold = avg_frac_change + std_frac_change\n",
    "sell_threshold = avg_frac_change - std_frac_change\n",
    "\n",
    "# Create a DataFrame to display the calculated thresholds\n",
    "threshold_df = pd.DataFrame({\n",
    "    'Threshold Type': ['Buy', 'Sell'],\n",
    "    'Value': [buy_threshold, sell_threshold]\n",
    "})\n",
    "\n",
    "print('Calculated Buy and Sell Thresholds:')\n",
    "print(threshold_df)"
   ]
  },
  {
   "cell_type": "code",
   "execution_count": 15,
   "id": "23c94c3c",
   "metadata": {},
   "outputs": [],
   "source": [
    "# Inicializa una lista para almacenar las señales\n",
    "trade_signals = []\n",
    "\n",
    "# Define umbrales\n",
    "buy_threshold = 0.044592 \n",
    "sell_threshold = -0.042083\n",
    "# Todo lo demás se considerará una señal de retención\n",
    "\n",
    "# Generar señales de trading\n",
    "for i in range(1, len(actual_close_prices)):\n",
    "    real_close_price_prev_day = np.array(actual_close_prices)[i - 1]\n",
    "    predicted_close_price_today = np.array(actual_close_prices)[i]\n",
    "\n",
    "    # Calcula el cambio fraccional predicho\n",
    "    predicted_frac_change = (predicted_close_price_today - real_close_price_prev_day) / real_close_price_prev_day\n",
    "\n",
    "    # Genera señales de trading\n",
    "    if predicted_frac_change > buy_threshold:\n",
    "        trade_signals.append('Compra')\n",
    "    elif predicted_frac_change < sell_threshold:\n",
    "        trade_signals.append('Venta')\n",
    "    else:\n",
    "        trade_signals.append('Retención')\n",
    "\n",
    "# Agrega una señal de 'Retención' para el primer día\n",
    "trade_signals.insert(0, 'Retención')"
   ]
  },
  {
   "cell_type": "code",
   "execution_count": 16,
   "id": "d7d140fa",
   "metadata": {},
   "outputs": [
    {
     "ename": "NameError",
     "evalue": "name 'next_day_predicted_price' is not defined",
     "output_type": "error",
     "traceback": [
      "\u001b[0;31m---------------------------------------------------------------------------\u001b[0m",
      "\u001b[0;31mNameError\u001b[0m                                 Traceback (most recent call last)",
      "\u001b[1;32m/home/mazroj/Chaos-Coders/HMC_coffe_ary.ipynb Cell 15\u001b[0m line \u001b[0;36m2\n\u001b[1;32m      <a href='vscode-notebook-cell://wsl%2Bubuntu/home/mazroj/Chaos-Coders/HMC_coffe_ary.ipynb#X16sdnNjb2RlLXJlbW90ZQ%3D%3D?line=0'>1</a>\u001b[0m \u001b[39m# Calculate the predicted fractional change\u001b[39;00m\n\u001b[0;32m----> <a href='vscode-notebook-cell://wsl%2Bubuntu/home/mazroj/Chaos-Coders/HMC_coffe_ary.ipynb#X16sdnNjb2RlLXJlbW90ZQ%3D%3D?line=1'>2</a>\u001b[0m predicted_frac_change \u001b[39m=\u001b[39m (next_day_predicted_price \u001b[39m-\u001b[39m test_data[\u001b[39m'\u001b[39m\u001b[39mClose\u001b[39m\u001b[39m'\u001b[39m]\u001b[39m.\u001b[39miloc[\u001b[39m-\u001b[39m\u001b[39m1\u001b[39m]) \u001b[39m/\u001b[39m test_data[\u001b[39m'\u001b[39m\u001b[39mClose\u001b[39m\u001b[39m'\u001b[39m]\u001b[39m.\u001b[39miloc[\u001b[39m-\u001b[39m\u001b[39m1\u001b[39m]\n\u001b[1;32m      <a href='vscode-notebook-cell://wsl%2Bubuntu/home/mazroj/Chaos-Coders/HMC_coffe_ary.ipynb#X16sdnNjb2RlLXJlbW90ZQ%3D%3D?line=3'>4</a>\u001b[0m \u001b[39mif\u001b[39;00m predicted_frac_change \u001b[39m>\u001b[39m buy_threshold:\n\u001b[1;32m      <a href='vscode-notebook-cell://wsl%2Bubuntu/home/mazroj/Chaos-Coders/HMC_coffe_ary.ipynb#X16sdnNjb2RlLXJlbW90ZQ%3D%3D?line=4'>5</a>\u001b[0m     trade_signal \u001b[39m=\u001b[39m \u001b[39m'\u001b[39m\u001b[39mCompra\u001b[39m\u001b[39m'\u001b[39m\n",
      "\u001b[0;31mNameError\u001b[0m: name 'next_day_predicted_price' is not defined"
     ]
    }
   ],
   "source": [
    "# Calculate the predicted fractional change\n",
    "predicted_frac_change = (next_day_predicted_price - test_data['Close'].iloc[-1]) / test_data['Close'].iloc[-1]\n",
    "\n",
    "if predicted_frac_change > buy_threshold:\n",
    "    trade_signal = 'Compra'\n",
    "elif predicted_frac_change < sell_threshold:\n",
    "    trade_signal = 'Venta'\n",
    "else:\n",
    "    trade_signal = 'Retención'\n",
    "\n",
    "print(f'La señal de trading para el valor predicho es: {trade_signal}')"
   ]
  },
  {
   "cell_type": "code",
   "execution_count": 21,
   "id": "24544fa5",
   "metadata": {},
   "outputs": [
    {
     "data": {
      "text/html": [
       "<div>\n",
       "<style scoped>\n",
       "    .dataframe tbody tr th:only-of-type {\n",
       "        vertical-align: middle;\n",
       "    }\n",
       "\n",
       "    .dataframe tbody tr th {\n",
       "        vertical-align: top;\n",
       "    }\n",
       "\n",
       "    .dataframe thead th {\n",
       "        text-align: right;\n",
       "    }\n",
       "</style>\n",
       "<table border=\"1\" class=\"dataframe\">\n",
       "  <thead>\n",
       "    <tr style=\"text-align: right;\">\n",
       "      <th></th>\n",
       "      <th>Date</th>\n",
       "      <th>Open</th>\n",
       "      <th>High</th>\n",
       "      <th>Low</th>\n",
       "      <th>Close</th>\n",
       "      <th>Signal</th>\n",
       "    </tr>\n",
       "  </thead>\n",
       "  <tbody>\n",
       "    <tr>\n",
       "      <th>870</th>\n",
       "      <td>2016-09-05</td>\n",
       "      <td>151.899994</td>\n",
       "      <td>153.699997</td>\n",
       "      <td>150.000000</td>\n",
       "      <td>149.949997</td>\n",
       "      <td>Retención</td>\n",
       "    </tr>\n",
       "    <tr>\n",
       "      <th>871</th>\n",
       "      <td>2016-09-12</td>\n",
       "      <td>147.800003</td>\n",
       "      <td>149.300003</td>\n",
       "      <td>147.000000</td>\n",
       "      <td>147.100006</td>\n",
       "      <td>Retención</td>\n",
       "    </tr>\n",
       "    <tr>\n",
       "      <th>872</th>\n",
       "      <td>2016-09-19</td>\n",
       "      <td>149.300003</td>\n",
       "      <td>160.899994</td>\n",
       "      <td>149.300003</td>\n",
       "      <td>151.399994</td>\n",
       "      <td>Retención</td>\n",
       "    </tr>\n",
       "    <tr>\n",
       "      <th>873</th>\n",
       "      <td>2016-09-26</td>\n",
       "      <td>151.500000</td>\n",
       "      <td>154.949997</td>\n",
       "      <td>148.750000</td>\n",
       "      <td>151.550003</td>\n",
       "      <td>Retención</td>\n",
       "    </tr>\n",
       "    <tr>\n",
       "      <th>874</th>\n",
       "      <td>2016-10-03</td>\n",
       "      <td>151.100006</td>\n",
       "      <td>151.699997</td>\n",
       "      <td>145.199997</td>\n",
       "      <td>148.000000</td>\n",
       "      <td>Retención</td>\n",
       "    </tr>\n",
       "    <tr>\n",
       "      <th>875</th>\n",
       "      <td>2016-10-10</td>\n",
       "      <td>148.199997</td>\n",
       "      <td>155.899994</td>\n",
       "      <td>148.050003</td>\n",
       "      <td>155.399994</td>\n",
       "      <td>Compra</td>\n",
       "    </tr>\n",
       "    <tr>\n",
       "      <th>876</th>\n",
       "      <td>2016-10-17</td>\n",
       "      <td>154.899994</td>\n",
       "      <td>159.600006</td>\n",
       "      <td>154.550003</td>\n",
       "      <td>156.100006</td>\n",
       "      <td>Retención</td>\n",
       "    </tr>\n",
       "    <tr>\n",
       "      <th>877</th>\n",
       "      <td>2016-10-24</td>\n",
       "      <td>156.050003</td>\n",
       "      <td>166.899994</td>\n",
       "      <td>155.649994</td>\n",
       "      <td>165.500000</td>\n",
       "      <td>Compra</td>\n",
       "    </tr>\n",
       "    <tr>\n",
       "      <th>878</th>\n",
       "      <td>2016-10-31</td>\n",
       "      <td>164.250000</td>\n",
       "      <td>172.000000</td>\n",
       "      <td>160.350006</td>\n",
       "      <td>171.350006</td>\n",
       "      <td>Retención</td>\n",
       "    </tr>\n",
       "    <tr>\n",
       "      <th>879</th>\n",
       "      <td>2016-11-07</td>\n",
       "      <td>170.000000</td>\n",
       "      <td>176.000000</td>\n",
       "      <td>157.899994</td>\n",
       "      <td>159.449997</td>\n",
       "      <td>Venta</td>\n",
       "    </tr>\n",
       "  </tbody>\n",
       "</table>\n",
       "</div>"
      ],
      "text/plain": [
       "           Date        Open        High         Low       Close     Signal\n",
       "870  2016-09-05  151.899994  153.699997  150.000000  149.949997  Retención\n",
       "871  2016-09-12  147.800003  149.300003  147.000000  147.100006  Retención\n",
       "872  2016-09-19  149.300003  160.899994  149.300003  151.399994  Retención\n",
       "873  2016-09-26  151.500000  154.949997  148.750000  151.550003  Retención\n",
       "874  2016-10-03  151.100006  151.699997  145.199997  148.000000  Retención\n",
       "875  2016-10-10  148.199997  155.899994  148.050003  155.399994     Compra\n",
       "876  2016-10-17  154.899994  159.600006  154.550003  156.100006  Retención\n",
       "877  2016-10-24  156.050003  166.899994  155.649994  165.500000     Compra\n",
       "878  2016-10-31  164.250000  172.000000  160.350006  171.350006  Retención\n",
       "879  2016-11-07  170.000000  176.000000  157.899994  159.449997      Venta"
      ]
     },
     "execution_count": 21,
     "metadata": {},
     "output_type": "execute_result"
    }
   ],
   "source": [
    "data_change = test_data.copy()\n",
    "data_change['Signal'] = trade_signals\n",
    "data_change.head(10)"
   ]
  },
  {
   "cell_type": "code",
   "execution_count": 28,
   "id": "f0e6771f",
   "metadata": {},
   "outputs": [
    {
     "data": {
      "text/plain": [
       "0.4415733891545848"
      ]
     },
     "execution_count": 28,
     "metadata": {},
     "output_type": "execute_result"
    }
   ],
   "source": [
    "buy_signal = data_change[data_change[\"Signal\"] == \"Compra\"]\n",
    "sell_signal = data_change[data_change[\"Signal\"] == \"Venta\"]\n",
    "\n",
    "sum1 = 0\n",
    "\n",
    "for i in buy_signal.index:\n",
    "    retur = (data_change[\"Close\"][i+1] - data_change[\"Close\"][i])/data_change[\"Close\"][i]\n",
    "    sum1 += retur\n",
    "\n",
    "for j in sell_signal.index:\n",
    "    retur = -(data_change[\"Close\"][i+1] - data_change[\"Close\"][i])/data_change[\"Close\"][i]\n",
    "    sum1 += retur\n",
    "\n",
    "sum1"
   ]
  },
  {
   "cell_type": "code",
   "execution_count": 19,
   "id": "b9992753",
   "metadata": {},
   "outputs": [
    {
     "data": {
      "text/plain": [
       "0.10470154927712334"
      ]
     },
     "execution_count": 19,
     "metadata": {},
     "output_type": "execute_result"
    }
   ],
   "source": [
    "data3 =data_change.reset_index()\n",
    "(data3['Close'][len(data3)-1] - data3['Close'][0])/ data3['Close'][0]"
   ]
  },
  {
   "cell_type": "code",
   "execution_count": 29,
   "id": "6f800bf5",
   "metadata": {},
   "outputs": [
    {
     "data": {
      "text/plain": [
       "(array([263.,   0.,   0.,   0.,   0.,  59.,   0.,   0.,   0.,  51.]),\n",
       " array([0. , 0.2, 0.4, 0.6, 0.8, 1. , 1.2, 1.4, 1.6, 1.8, 2. ]),\n",
       " <BarContainer object of 10 artists>)"
      ]
     },
     "execution_count": 29,
     "metadata": {},
     "output_type": "execute_result"
    },
    {
     "data": {
      "image/png": "[encoded data removed]",
      "text/plain": [
       "<Figure size 640x480 with 1 Axes>"
      ]
     },
     "metadata": {},
     "output_type": "display_data"
    }
   ],
   "source": [
    "plt.hist(data_change['Signal'])"
   ]
  },
  {
   "cell_type": "code",
   "execution_count": null,
   "id": "ab7904ab",
   "metadata": {},
   "outputs": [],
   "source": []
  }
 ],
 "metadata": {
  "kernelspec": {
   "display_name": "Python 3 (ipykernel)",
   "language": "python",
   "name": "python3"
  },
  "language_info": {
   "codemirror_mode": {
    "name": "ipython",
    "version": 3
   },
   "file_extension": ".py",
   "mimetype": "text/x-python",
   "name": "python",
   "nbconvert_exporter": "python",
   "pygments_lexer": "ipython3",
   "version": "3.10.6"
  }
 },
 "nbformat": 4,
 "nbformat_minor": 5
}
