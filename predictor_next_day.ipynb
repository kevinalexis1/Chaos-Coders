{
 "cells": [
  {
   "cell_type": "code",
   "execution_count": 6,
   "metadata": {},
   "outputs": [],
   "source": [
    "\n",
    "import pandas as pd\n",
    "from sklearn.model_selection import train_test_split\n",
    "import sys\n",
    "import numpy as np\n",
    "from hmmlearn import hmm\n",
    "import itertools\n",
    "from tqdm import tqdm\n",
    "import matplotlib.pyplot as plt\n",
    "from hmmlearn import hmm\n",
    "from sklearn.preprocessing import StandardScaler"
   ]
  },
  {
   "cell_type": "code",
   "execution_count": 7,
   "metadata": {},
   "outputs": [],
   "source": [
    "# Ruta al archivo CSV\n",
    "csv_path = \"/home/mazroj/Chaos-Coders/data/coffee_weekly.csv\"  # Reemplaza con la ruta a tu archivo CSV\n",
    "test_size = 0.3  # Porcentaje de datos para el conjunto de prueba\n",
    "\n",
    "try:\n",
    "    # Usa pandas para leer el archivo CSV\n",
    "    used_data = pd.read_csv(csv_path)\n",
    "    used_data.dropna(inplace=True)\n",
    "except FileNotFoundError:\n",
    "    print(\"Archivo CSV no encontrado. Por favor, verifica la ruta del archivo.\")\n",
    "    sys.exit()\n",
    "train_data = used_data.copy()"
   ]
  },
  {
   "cell_type": "code",
   "execution_count": 3,
   "metadata": {},
   "outputs": [],
   "source": [
    "def predictor(train_data, n_components , day_index_1):\n",
    "    # No mezcles los datos ya que es una serie temporal\n",
    "    #_train_data, test_data = train_test_split(used_data, test_size=test_size, shuffle=False)\n",
    "\n",
    "    # Elimina las columnas que no se usan\n",
    "    train_data = train_data.drop([\"Volume\", \"Adj Close\"], axis=1)  # Ajusta los nombres de las columnas según tu dataset\n",
    "    #test_data = test_data.drop([\"Volume\", \"Adj Close\"], axis=1)  # Ajusta los nombres de las columnas según tu dataset\n",
    "\n",
    "    # Extrae las características: precios de apertura, cierre, máximo y mínimo\n",
    "    open_price = np.array(train_data[\"Open\"])\n",
    "    close_price = np.array(train_data[\"Close\"])\n",
    "    high_price = np.array(train_data[\"High\"])\n",
    "    low_price = np.array(train_data[\"Low\"])\n",
    "\n",
    "    # Calcula los cambios fraccionales en los precios alto, bajo y de cierre para usar como conjunto de observaciones\n",
    "    frac_change = (close_price - open_price) / open_price\n",
    "    frac_high = (high_price - open_price) / open_price\n",
    "    frac_low = (open_price - low_price) / open_price\n",
    "\n",
    "    # Apila las características en columnas\n",
    "    features = np.column_stack((frac_change, frac_high, frac_low))\n",
    "\n",
    "    # Inicializa el modelo HMM\n",
    "    #n_components = 3  # Número de estados en el modelo, ajusta según tus necesidades\n",
    "    hmm_1 = hmm.GMMHMM(n_components=n_components)\n",
    "\n",
    "    # Registro de la extracción de características\n",
    "    #_logger.info(\">>> Extracting Features\"3\n",
    "    observations = features  # Usa las características que has calculado\n",
    "    #_logger.info(\"Features extraction Completed <<<\")\n",
    "\n",
    "    # Ajusta el modelo HMM usando la función 'fit' de hmmlearn\n",
    "    hmm_1.fit(observations)\n",
    "\n",
    "    # Parámetros para los intervalos\n",
    "    n_intervals_frac_change = 15  # Ajusta según tus necesidades\n",
    "    n_intervals_frac_high = 15  # Ajusta según tus necesidades\n",
    "    n_intervals_frac_low = 15  # Ajusta según tus necesidades\n",
    "\n",
    "    # Crea arrays de NumPy con números espaciados uniformemente para cada rango\n",
    "    frac_change_range = np.linspace(-0.1, 0.1, n_intervals_frac_change)\n",
    "    frac_high_range = np.linspace(0, 0.1, n_intervals_frac_high)\n",
    "    frac_low_range = np.linspace(0, 0.1, n_intervals_frac_low)\n",
    "\n",
    "    # Calcula todos los resultados posibles utilizando el producto cartesiano\n",
    "    possible_outcomes = np.array(\n",
    "        list(itertools.product(frac_change_range, frac_high_range, frac_low_range))\n",
    "    )\n",
    "\n",
    "    # Parámetros\n",
    "    #day_index_1 =   # Índice del día actual, ajusta según tus necesidades\n",
    "    n_latency_days = 5  # Número de días de latencia, ajusta según tus necesidades\n",
    "\n",
    "    # Usa los datos anteriores de n_latency_days para las predicciones\n",
    "    #previous_data_start_index = max(0, day_index_1 - n_latency_days)\n",
    "    #previous_data_end_index = max(0, day_index_1 - 1)\n",
    "    previous_data = train_data.iloc[-n_latency_days:]\n",
    "\n",
    "    # Supongamos que 'features' son las características extraídas\n",
    "    # features = np.column_stack((frac_change, frac_high, frac_low))  # Descomenta esta línea si necesitas calcular las características\n",
    "    previous_data_features = features  # Usa las características que has calculado\n",
    "\n",
    "    outcome_score = []\n",
    "\n",
    "    # Evalúa todos los resultados posibles y selecciona el más probable para usar en la predicción\n",
    "    for possible_outcome in possible_outcomes:\n",
    "        total_data = np.row_stack((previous_data_features, possible_outcome))\n",
    "        outcome_score.append(hmm_1.score(total_data))\n",
    "\n",
    "    # Obtén el índice del resultado más probable y devuélvelo\n",
    "    most_probable_outcome = possible_outcomes[np.argmax(outcome_score)]\n",
    "\n",
    "    # Obtén el precio de apertura para el día dado\n",
    "    #open_price = test_data.iloc[day_index_1][\"Open\"]\n",
    "\n",
    "    # Supongamos que 'most_probable_outcome' contiene los cambios fraccionales más probables en [frac_change, frac_high, frac_low]\n",
    "    #predicted_frac_change, pred_frac_high, pred_frac_low = most_probable_outcome\n",
    "\n",
    "    # Calcula el precio de cierre previsto\n",
    "    #predicted_close_price = open_price * (1 + predicted_frac_change)\n",
    "\n",
    "    #print(predicted_close_price)\n",
    "\n",
    "    # Obtén la fecha correspondiente al day_index\n",
    "    #date_at_day_index = test_data.iloc[day_index_1]['Date']  # Reemplaza 'Fecha' con el nombre de tu columna de fechas\n",
    "    #print(date_at_day_index)\n",
    "\n",
    "\n",
    "\n",
    "\n",
    "    return most_probable_outcome"
   ]
  },
  {
   "cell_type": "code",
   "execution_count": 4,
   "metadata": {},
   "outputs": [
    {
     "name": "stderr",
     "output_type": "stream",
     "text": [
      "100%|██████████| 1/1 [00:12<00:00, 12.98s/it]\n"
     ]
    }
   ],
   "source": [
    "# Supongamos que 'days' es el número total de días en tus datos de prueba\n",
    "days = 1\n",
    "\n",
    "# Inicializa una lista vacía para almacenar los precios de cierre previstos\n",
    "predicted_close_prices = []\n",
    "predicted_change_list = []\n",
    "\n",
    "# Imprime el rango de fechas para las que se harán las predicciones\n",
    "#print(\n",
    "#    \"Predicting Close prices from \"\n",
    "#    + str(train_data.index[0])\n",
    "##    + \" to \"\n",
    " #   + str(test_data.index[-1])\n",
    "#)\n",
    "\n",
    "# Bucle para predecir los precios de cierre para cada día en el período de prueba\n",
    "for day_index in tqdm(range(days)):\n",
    "    # Aquí, puedes usar el código que escribimos anteriormente para predecir el precio de cierre para un día dado\n",
    "    open_price = train_data.iloc[-1][\"Close\"]\n",
    "    predicted_frac_change, pred_frac_high, pred_frac_low = predictor(train_data,3, day_index)  # Usa el resultado más probable que calculaste previamente\n",
    "    predicted_close_price = open_price * (1 + predicted_frac_change)\n",
    "    \n",
    "    # Añade el precio de cierre previsto a la lista\n",
    "    predicted_close_prices.append(predicted_close_price)\n",
    "    predicted_change_list.append(predicted_frac_change)\n",
    "\n",
    "# Almacena la lista de precios de cierre previstos en una variable\n",
    "predicted_close = predicted_close_prices"
   ]
  },
  {
   "cell_type": "code",
   "execution_count": 5,
   "metadata": {},
   "outputs": [
    {
     "data": {
      "text/plain": [
       "[165.649994]"
      ]
     },
     "execution_count": 5,
     "metadata": {},
     "output_type": "execute_result"
    }
   ],
   "source": [
    "predicted_close"
   ]
  },
  {
   "cell_type": "code",
   "execution_count": 6,
   "metadata": {},
   "outputs": [
    {
     "data": {
      "text/plain": [
       "0.0"
      ]
     },
     "execution_count": 6,
     "metadata": {},
     "output_type": "execute_result"
    }
   ],
   "source": [
    "predicted_frac_change"
   ]
  },
  {
   "cell_type": "code",
   "execution_count": 8,
   "metadata": {},
   "outputs": [],
   "source": [
    "# Function to predict the next day's closing price based on the last n_latency_days in the dataset\n",
    "\n",
    "_train_data, test_data = train_test_split(used_data, test_size=test_size, shuffle=False)\n",
    "n_latency_days = 5\n",
    "train_data = train_data.drop([\"Volume\", \"Adj Close\"], axis=1) \n",
    "#Ajusta los nombres de las columnas según tu dataset\n",
    "test_data = test_data.drop([\"Volume\", \"Adj Close\"], axis=1)  # Ajusta los nombres de las columnas según tu dataset\n",
    "\n",
    "# Extrae las características: precios de apertura, cierre, máximo y mínimo\n",
    "open_price = np.array(train_data[\"Open\"])\n",
    "close_price = np.array(train_data[\"Close\"])\n",
    "high_price = np.array(train_data[\"High\"])\n",
    "low_price = np.array(train_data[\"Low\"])\n",
    "\n",
    "# Calcula los cambios fraccionales en los precios alto, bajo y de cierre para usar como conjunto de observaciones\n",
    "frac_change = (close_price - open_price) / open_price\n",
    "frac_high = (high_price - open_price) / open_price\n",
    "frac_low = (open_price - low_price) / open_price\n",
    "\n",
    "# Apila las características en columnas\n",
    "features = np.column_stack((frac_change, frac_high, frac_low))\n",
    "\n",
    "# Inicializa el modelo HMM\n",
    "#n_components = 3  # Número de estados en el modelo, ajusta según tus necesidades\n",
    "hmm_1 = hmm.GMMHMM(n_components=3)\n",
    "\n",
    "# Registro de la extracción de características\n",
    "#_logger.info(\">>> Extracting Features\"3\n",
    "observations = features  # Usa las características que has calculado\n",
    "#_logger.info(\"Features extraction Completed <<<\")\n",
    "\n",
    "# Ajusta el modelo HMM usando la función 'fit' de hmmlearn\n",
    "hmm_1.fit(observations)\n",
    "\n",
    "# Parámetros para los intervalos\n",
    "n_intervals_frac_change = 15  # Ajusta según tus necesidades\n",
    "n_intervals_frac_high = 15  # Ajusta según tus necesidades\n",
    "n_intervals_frac_low = 15  # Ajusta según tus necesidades\n",
    "\n",
    "# Crea arrays de NumPy con números espaciados uniformemente para cada rango\n",
    "frac_change_range = np.linspace(-0.1, 0.1, n_intervals_frac_change)\n",
    "frac_high_range = np.linspace(0, 0.1, n_intervals_frac_high)\n",
    "frac_low_range = np.linspace(0, 0.1, n_intervals_frac_low)\n",
    "\n",
    "# Calcula todos los resultados posibles utilizando el producto cartesiano\n",
    "possible_outcomes = np.array(list(itertools.product(frac_change_range, frac_high_range, frac_low_range)))\n",
    "\n",
    "def predict_next_day():\n",
    "    # Use the last n_latency_days from the test set for the prediction\n",
    "    last_days_data = test_data.iloc[-n_latency_days:]\n",
    "\n",
    "    outcome_score = []\n",
    "\n",
    "    for possible_outcome in possible_outcomes:\n",
    "        total_data = np.row_stack((features[-n_latency_days:], possible_outcome))\n",
    "        outcome_score.append(hmm_1.score(total_data))\n",
    "\n",
    "    most_probable_outcome = possible_outcomes[np.argmax(outcome_score)]\n",
    "\n",
    "    last_open_price = last_days_data.iloc[-1][\"Open\"]\n",
    "    predicted_frac_change, _, _ = most_probable_outcome\n",
    "    predicted_close_price = last_open_price * (1 + predicted_frac_change)\n",
    "\n",
    "    return predicted_close_price, predicted_frac_change\n"
   ]
  },
  {
   "cell_type": "code",
   "execution_count": 9,
   "metadata": {},
   "outputs": [
    {
     "name": "stdout",
     "output_type": "stream",
     "text": [
      "Predicted closing price for the next day: (163.399994, 0.0)\n"
     ]
    }
   ],
   "source": [
    "# Predict the next day's closing price\n",
    "next_day_predicted_price = predict_next_day()\n",
    "print(f'Predicted closing price for the next day: {next_day_predicted_price}')"
   ]
  },
  {
   "cell_type": "code",
   "execution_count": null,
   "metadata": {},
   "outputs": [],
   "source": []
  }
 ],
 "metadata": {
  "kernelspec": {
   "display_name": "Python 3",
   "language": "python",
   "name": "python3"
  },
  "language_info": {
   "codemirror_mode": {
    "name": "ipython",
    "version": 3
   },
   "file_extension": ".py",
   "mimetype": "text/x-python",
   "name": "python",
   "nbconvert_exporter": "python",
   "pygments_lexer": "ipython3",
   "version": "3.10.6"
  }
 },
 "nbformat": 4,
 "nbformat_minor": 2
}
